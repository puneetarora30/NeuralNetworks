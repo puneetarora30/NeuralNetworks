{
  "nbformat": 4,
  "nbformat_minor": 0,
  "metadata": {
    "colab": {
      "provenance": [],
      "authorship_tag": "ABX9TyMUka54J+sKlGKJEN+rto3i",
      "include_colab_link": true
    },
    "kernelspec": {
      "name": "python3",
      "display_name": "Python 3"
    },
    "language_info": {
      "name": "python"
    }
  },
  "cells": [
    {
      "cell_type": "markdown",
      "metadata": {
        "id": "view-in-github",
        "colab_type": "text"
      },
      "source": [
        "<a href=\"https://colab.research.google.com/github/puneetarora30/NeuralNetworks/blob/main/NeuralNetworks.ipynb\" target=\"_parent\"><img src=\"https://colab.research.google.com/assets/colab-badge.svg\" alt=\"Open In Colab\"/></a>"
      ]
    },
    {
      "cell_type": "code",
      "execution_count": 2,
      "metadata": {
        "id": "uThtrABTs6Sv"
      },
      "outputs": [],
      "source": [
        "import numpy as np\n",
        "import pandas as pd\n",
        "import sklearn as sk\n",
        "import matplotlib.pyplot as plt\n"
      ]
    },
    {
      "cell_type": "code",
      "source": [
        "#dataset\n",
        "a = [0,0,1,1,0,0,\n",
        "     0,1,0,0,1,0,\n",
        "     1,1,1,1,1,1,\n",
        "     1,0,0,0,0,1,\n",
        "     1,0,0,0,0,1]\n",
        "\n",
        "b= [0,1,1,1,1,0,\n",
        "    0,1,0,0,1,0,\n",
        "    0,1,1,1,1,0,\n",
        "    0,1,0,0,1,0,\n",
        "    0,1,1,1,1,0]\n",
        "\n",
        "c = [0,1,1,1,1,0,\n",
        "     0,1,0,0,0,0,\n",
        "     0,1,0,0,0,0,\n",
        "     0,1,0,0,0,0,\n",
        "     0,1,1,1,1,0]"
      ],
      "metadata": {
        "id": "ynANV6-G5mlh"
      },
      "execution_count": 3,
      "outputs": []
    },
    {
      "cell_type": "code",
      "source": [
        "#creating labels\n",
        "y = [[1,0,0],\n",
        "     [0,1,0],\n",
        "     [0,0,1]]\n"
      ],
      "metadata": {
        "id": "SBJayDOD6v7T"
      },
      "execution_count": 4,
      "outputs": []
    },
    {
      "cell_type": "code",
      "source": [
        "#visualize the data\n",
        "plt.imshow(np.array(a).reshape(5,6))\n",
        "plt.show()"
      ],
      "metadata": {
        "colab": {
          "base_uri": "https://localhost:8080/",
          "height": 430
        },
        "id": "EMQcfb197Ea9",
        "outputId": "b2741ff7-5c18-4392-b121-ef3a4b8827a4"
      },
      "execution_count": 5,
      "outputs": [
        {
          "output_type": "display_data",
          "data": {
            "text/plain": [
              "<Figure size 640x480 with 1 Axes>"
            ],
            "image/png": "[encoded data removed]"
          },
          "metadata": {}
        }
      ]
    },
    {
      "cell_type": "code",
      "source": [
        "#visualize the data\n",
        "plt.imshow(np.array(b).reshape(5,6))\n",
        "plt.show()"
      ],
      "metadata": {
        "colab": {
          "base_uri": "https://localhost:8080/",
          "height": 430
        },
        "id": "Ttz-W8fb7Ueg",
        "outputId": "d8f1d188-bdf4-4e90-ef25-ddda69a88b57"
      },
      "execution_count": 6,
      "outputs": [
        {
          "output_type": "display_data",
          "data": {
            "text/plain": [
              "<Figure size 640x480 with 1 Axes>"
            ],
            "image/png": "[encoded data removed]"
          },
          "metadata": {}
        }
      ]
    },
    {
      "cell_type": "code",
      "source": [
        "#visualize the data\n",
        "plt.imshow(np.array(c).reshape(5,6))\n",
        "plt.show()"
      ],
      "metadata": {
        "colab": {
          "base_uri": "https://localhost:8080/",
          "height": 430
        },
        "id": "sTq1Hej17asg",
        "outputId": "5770a9f3-a6e8-4ea5-fc7d-d7941dec7122"
      },
      "execution_count": 7,
      "outputs": [
        {
          "output_type": "display_data",
          "data": {
            "text/plain": [
              "<Figure size 640x480 with 1 Axes>"
            ],
            "image/png": "[encoded data removed]"
          },
          "metadata": {}
        }
      ]
    },
    {
      "cell_type": "code",
      "source": [
        "#convert data and labels into numpy array\n",
        "x = [np.array(a).reshape(1,30), np.array(b).reshape(1,30),np.array(c).reshape(1,30)]\n",
        "y = np.array(y)\n",
        "print (x, \"\\n \\n\", y)"
      ],
      "metadata": {
        "colab": {
          "base_uri": "https://localhost:8080/"
        },
        "id": "55Sq6t3K7doQ",
        "outputId": "0f691b60-93cd-4334-9e74-a9e0f1e7dbc0"
      },
      "execution_count": 8,
      "outputs": [
        {
          "output_type": "stream",
          "name": "stdout",
          "text": [
            "[array([[0, 0, 1, 1, 0, 0, 0, 1, 0, 0, 1, 0, 1, 1, 1, 1, 1, 1, 1, 0, 0, 0,\n",
            "        0, 1, 1, 0, 0, 0, 0, 1]]), array([[0, 1, 1, 1, 1, 0, 0, 1, 0, 0, 1, 0, 0, 1, 1, 1, 1, 0, 0, 1, 0, 0,\n",
            "        1, 0, 0, 1, 1, 1, 1, 0]]), array([[0, 1, 1, 1, 1, 0, 0, 1, 0, 0, 0, 0, 0, 1, 0, 0, 0, 0, 0, 1, 0, 0,\n",
            "        0, 0, 0, 1, 1, 1, 1, 0]])] \n",
            " \n",
            " [[1 0 0]\n",
            " [0 1 0]\n",
            " [0 0 1]]\n"
          ]
        }
      ]
    },
    {
      "cell_type": "code",
      "source": [
        "# input (1,30)\n",
        "# hidden (1,5)\n",
        "#output (3,3)"
      ],
      "metadata": {
        "id": "-TTbijt1EM53"
      },
      "execution_count": 9,
      "outputs": []
    },
    {
      "cell_type": "code",
      "source": [
        "#activation function\n",
        "\n",
        "def sigmoid(x):\n",
        "  return (1/(1+np.exp(-x)))\n",
        "\n"
      ],
      "metadata": {
        "id": "tno0Ywm2EYqv"
      },
      "execution_count": 10,
      "outputs": []
    },
    {
      "cell_type": "code",
      "source": [
        "#creating feed foward NN\n",
        "def f_forward(x, w1, w2):\n",
        "  #hidden layer\n",
        "  z1 = x.dot(w1)\n",
        "  a1 = sigmoid(z1)\n",
        "\n",
        "  #output layer\n",
        "  z2 = a1.dot(w2)\n",
        "  a2 = sigmoid(z2)\n",
        "  return(a2)"
      ],
      "metadata": {
        "id": "3vlw4IYEEzcb"
      },
      "execution_count": 11,
      "outputs": []
    },
    {
      "cell_type": "code",
      "source": [
        "#initialize the weights\n",
        "def generate_wt(x,y):\n",
        "  l = []\n",
        "  for i in range(x*y):\n",
        "    l.append(np.random.randn())\n",
        "  return(np.array(l).reshape(x,y))"
      ],
      "metadata": {
        "id": "iG8DMgLiFQgr"
      },
      "execution_count": 12,
      "outputs": []
    },
    {
      "cell_type": "code",
      "source": [
        "# for loss\n",
        "def loss_function(out,Y):\n",
        "  s = (np.square(out-Y))\n",
        "  s = np.sum(s)/len(y)\n",
        "  return(s)"
      ],
      "metadata": {
        "id": "NkdE2jKVFoiU"
      },
      "execution_count": 24,
      "outputs": []
    },
    {
      "cell_type": "code",
      "source": [
        "#create back propagation of error\n",
        "def back_prop(x,y,w1,w2,alpha):\n",
        "\n",
        "  #hidden\n",
        "  z1= x.dot(w1)\n",
        "  a1= sigmoid(z1)\n",
        "\n",
        "  #output layer\n",
        "  z2 = a1.dot(w2)\n",
        "  a2= sigmoid(z2)\n",
        "\n",
        "  #for every error occured in output layer\n",
        "  d2= (a2-y)\n",
        "  d1= np.multiply((w2.dot((d2.transpose()))).transpose(),np.multiply(a1,1-a1))\n",
        "  #gradiant\n",
        "  w1_adj = x.transpose().dot(d1)\n",
        "  w2_adj = a1.transpose().dot(d2)\n",
        "\n",
        "  w1= w1 -(alpha*(w1_adj))\n",
        "  w2= w2 -(alpha*(w2_adj))\n",
        "\n",
        "  return (w1,w2)"
      ],
      "metadata": {
        "id": "EXTEYLCsF3m9"
      },
      "execution_count": 27,
      "outputs": []
    },
    {
      "cell_type": "code",
      "source": [
        "def train(x,Y,w1,w2,alpha=0.01, epoch = 10):\n",
        "  acc = []\n",
        "  loss = []\n",
        "  for j in range(epoch):\n",
        "      l= []\n",
        "      for i in range(len(x)):\n",
        "          out = f_forward(x[i],w1,w2)\n",
        "          l.append(loss_function(out,Y[i]))\n",
        "          w1,w2 = back_prop(x[i], y[i], w1, w2, alpha)\n",
        "          print(\"Epochs:\", j+1,\"acc:\", (1-(sum(l)/len(x)))*100)\n",
        "          acc.append((1-(sum(l)/len(x)))*100)\n",
        "          loss.append(sum(l)/len(x))\n",
        "  return(acc,loss,w1,w2)"
      ],
      "metadata": {
        "id": "Nk5VAo1SHOQm"
      },
      "execution_count": 22,
      "outputs": []
    },
    {
      "cell_type": "code",
      "source": [
        "def predict(x,w1,w2):\n",
        "    Out = f_forward(x,w1,w2)\n",
        "    maxm=0\n",
        "    k=0\n",
        "    for i in range (len(Out[0])):\n",
        "      if (maxm<Out[0][i]):\n",
        "        mam = Out[0][i]\n",
        "        k = i\n",
        "      if (k==0):\n",
        "        print(\"Image is of letter A\")\n",
        "      elif (k==1):\n",
        "        print(\"Image is of letter B\")\n",
        "      else:\n",
        "        print(\"Image is of letter C\")\n",
        "      plt.imshow(x.reshape(5,6))\n",
        "      plt.show()"
      ],
      "metadata": {
        "id": "KUEJES0WIgPZ"
      },
      "execution_count": 17,
      "outputs": []
    },
    {
      "cell_type": "code",
      "source": [
        "w1 = generate_wt(30,5)\n",
        "w2 = generate_wt(5,3)\n",
        "print(w1,\"\\n\", w2)"
      ],
      "metadata": {
        "colab": {
          "base_uri": "https://localhost:8080/"
        },
        "id": "KU4HBuDzG1z0",
        "outputId": "a39efe1f-fcd1-4031-a9b1-0c03b59811b3"
      },
      "execution_count": 18,
      "outputs": [
        {
          "output_type": "stream",
          "name": "stdout",
          "text": [
            "[[-0.05025896  0.75878857  1.45355557 -0.24679555 -1.33728025]\n",
            " [ 0.66514182 -0.6361719  -1.06200524 -0.05359211 -1.42117735]\n",
            " [-0.10982746 -2.56998987  1.05539533  0.40170191  1.18068876]\n",
            " [ 1.75013766  0.17247097 -0.29700925  0.96936187  1.05849867]\n",
            " [ 0.0970271  -1.48633991 -0.48200764 -1.10923606  0.43054467]\n",
            " [-0.26122281 -1.68480495 -0.25309325 -0.8691426   1.5009103 ]\n",
            " [-0.58254676 -0.08457126 -1.81159042 -0.32353091 -0.17828618]\n",
            " [ 0.04834149 -0.15076219  0.94900096  1.25323125  0.50822907]\n",
            " [-0.27833728 -0.16383044 -0.60191067  0.07705171 -2.07850669]\n",
            " [-0.17349803 -0.26245411 -0.44497258 -0.49433921  1.66027229]\n",
            " [-1.79970644  0.01305143  0.74924807  0.30755886 -0.39990703]\n",
            " [ 0.19014573 -1.40336228  0.80371789  1.34589525 -0.53975976]\n",
            " [-0.22246647 -0.82682804 -0.81511261  0.69618897 -0.85942301]\n",
            " [ 1.49301105  1.42887991  0.82703729 -0.06993623 -1.61225897]\n",
            " [-0.21111928 -0.36809423  0.20916317  1.51309327 -1.30936598]\n",
            " [-0.81066251  1.69537778  2.14336013  0.29404873  0.43052042]\n",
            " [ 1.73969211  0.49978911  1.22901283  0.39030926  1.31665037]\n",
            " [-1.66766602 -1.20228422 -0.81598028 -0.91216693 -1.23865426]\n",
            " [ 0.41225562  0.46884155 -0.96848495 -0.83129089  0.48355061]\n",
            " [ 0.10586551 -0.15245568  0.16916581  1.45414023  0.48769958]\n",
            " [-0.06821737 -0.3283203  -2.04504155  0.95039696 -0.90068915]\n",
            " [ 1.05904731  1.1961703   0.3068144   1.93739765  1.42703073]\n",
            " [-0.06266737  0.27199872  0.23875873 -0.23262114 -0.50142939]\n",
            " [ 1.71438598  1.52910258  0.28339536 -1.86693096  2.0786171 ]\n",
            " [ 0.26893884  0.1139766  -0.24039226  0.08388388 -0.69126544]\n",
            " [-1.44390355 -0.26410802 -1.31977067  0.81360965  0.58934057]\n",
            " [ 0.35206836 -1.21405802 -1.37680087 -0.75665276  0.85573848]\n",
            " [ 0.25368182 -0.00899802  1.31631006  0.37156024 -1.18836434]\n",
            " [-0.11417361 -0.87297648  0.12813369  1.22626893 -0.30126691]\n",
            " [-0.63542924 -0.21470477 -0.81932881  0.96134249  0.40554492]] \n",
            " [[-0.0326347  -0.73436121 -1.80657188]\n",
            " [ 0.0802019   1.39532254 -1.63571572]\n",
            " [-0.06029267  1.33524187 -2.17068344]\n",
            " [ 0.6153973   1.30865158  1.32500155]\n",
            " [-1.03469608  1.80824327 -0.44542353]]\n"
          ]
        }
      ]
    },
    {
      "cell_type": "code",
      "source": [
        "acc, loss, w1, w2 = train(x,y,w1,w2,0.1,100)"
      ],
      "metadata": {
        "colab": {
          "base_uri": "https://localhost:8080/"
        },
        "id": "RNrG3txbMCia",
        "outputId": "986132c8-2dcb-4dce-8798-8fe7d8b6051c"
      },
      "execution_count": 28,
      "outputs": [
        {
          "output_type": "stream",
          "name": "stdout",
          "text": [
            "Epochs: 1 acc: 85.63442281032698\n",
            "Epochs: 1 acc: 82.07039231040724\n",
            "Epochs: 1 acc: 62.57547498478324\n",
            "Epochs: 2 acc: 86.06832004525769\n",
            "Epochs: 2 acc: 82.34296217737833\n",
            "Epochs: 2 acc: 66.50131030022428\n",
            "Epochs: 3 acc: 87.12273805989602\n",
            "Epochs: 3 acc: 83.09813371877303\n",
            "Epochs: 3 acc: 70.28411343859493\n",
            "Epochs: 4 acc: 88.7314369586279\n",
            "Epochs: 4 acc: 84.35562877537257\n",
            "Epochs: 4 acc: 73.65726862123074\n",
            "Epochs: 5 acc: 90.30559749377571\n",
            "Epochs: 5 acc: 85.6040460623215\n",
            "Epochs: 5 acc: 76.37707174307678\n",
            "Epochs: 6 acc: 91.44831979987138\n",
            "Epochs: 6 acc: 86.47692951410791\n",
            "Epochs: 6 acc: 78.31031908934592\n",
            "Epochs: 7 acc: 92.20547358837386\n",
            "Epochs: 7 acc: 87.03053161135048\n",
            "Epochs: 7 acc: 79.6598444935703\n",
            "Epochs: 8 acc: 92.70606492076087\n",
            "Epochs: 8 acc: 87.3961258654925\n",
            "Epochs: 8 acc: 80.64362131100647\n",
            "Epochs: 9 acc: 93.04553146465818\n",
            "Epochs: 9 acc: 87.66798922764704\n",
            "Epochs: 9 acc: 81.40881208543743\n",
            "Epochs: 10 acc: 93.28572071104489\n",
            "Epochs: 10 acc: 87.9065752262295\n",
            "Epochs: 10 acc: 82.04967443463327\n",
            "Epochs: 11 acc: 93.46642754944406\n",
            "Epochs: 11 acc: 88.15138138350841\n",
            "Epochs: 11 acc: 82.62840737451282\n",
            "Epochs: 12 acc: 93.61393604298107\n",
            "Epochs: 12 acc: 88.42868384191203\n",
            "Epochs: 12 acc: 83.18754237821108\n",
            "Epochs: 13 acc: 93.74645064712946\n",
            "Epochs: 13 acc: 88.75366446663486\n",
            "Epochs: 13 acc: 83.75508561541524\n",
            "Epochs: 14 acc: 93.87739267998379\n",
            "Epochs: 14 acc: 89.12823025670048\n",
            "Epochs: 14 acc: 84.34415381173321\n",
            "Epochs: 15 acc: 94.01707395080827\n",
            "Epochs: 15 acc: 89.53842710942779\n",
            "Epochs: 15 acc: 84.95063405981223\n",
            "Epochs: 16 acc: 94.1727900942832\n",
            "Epochs: 16 acc: 89.95825211104889\n",
            "Epochs: 16 acc: 85.5557244799942\n",
            "Epochs: 17 acc: 94.34767766694476\n",
            "Epochs: 17 acc: 90.36197111532647\n",
            "Epochs: 17 acc: 86.13712231070619\n",
            "Epochs: 18 acc: 94.53993420271671\n",
            "Epochs: 18 acc: 90.73535877568779\n",
            "Epochs: 18 acc: 86.68091382161602\n",
            "Epochs: 19 acc: 94.7440457323255\n",
            "Epochs: 19 acc: 91.07661434292429\n",
            "Epochs: 19 acc: 87.18428350796269\n",
            "Epochs: 20 acc: 94.95337598143838\n",
            "Epochs: 20 acc: 91.39057880428996\n",
            "Epochs: 20 acc: 87.65112319634079\n",
            "Epochs: 21 acc: 95.16222343961628\n",
            "Epochs: 21 acc: 91.68367144843988\n",
            "Epochs: 21 acc: 88.08748319584197\n",
            "Epochs: 22 acc: 95.36660390025267\n",
            "Epochs: 22 acc: 91.96163837267382\n",
            "Epochs: 22 acc: 88.49929991759909\n",
            "Epochs: 23 acc: 95.56416651020382\n",
            "Epochs: 23 acc: 92.22899754799077\n",
            "Epochs: 23 acc: 88.8916545005132\n",
            "Epochs: 24 acc: 95.7537965007304\n",
            "Epochs: 24 acc: 92.4890695767644\n",
            "Epochs: 24 acc: 89.26862574764976\n",
            "Epochs: 25 acc: 95.93520497774055\n",
            "Epochs: 25 acc: 92.74410876962216\n",
            "Epochs: 25 acc: 89.63329762385347\n",
            "Epochs: 26 acc: 96.10860306190736\n",
            "Epochs: 26 acc: 92.99540418101573\n",
            "Epochs: 26 acc: 89.98778679291277\n",
            "Epochs: 27 acc: 96.27446670327586\n",
            "Epochs: 27 acc: 93.2433569131679\n",
            "Epochs: 27 acc: 90.33328032745122\n",
            "Epochs: 28 acc: 96.43337249607413\n",
            "Epochs: 28 acc: 93.48758347032205\n",
            "Epochs: 28 acc: 90.67011791670943\n",
            "Epochs: 29 acc: 96.58588502839378\n",
            "Epochs: 29 acc: 93.72709362306017\n",
            "Epochs: 29 acc: 90.99795573270598\n",
            "Epochs: 30 acc: 96.73248389979847\n",
            "Epochs: 30 acc: 93.96055579702266\n",
            "Epochs: 30 acc: 91.31601906908905\n",
            "Epochs: 31 acc: 96.87352535155543\n",
            "Epochs: 31 acc: 94.18660844543244\n",
            "Epochs: 31 acc: 91.62340213694223\n",
            "Epochs: 32 acc: 97.00923584407121\n",
            "Epochs: 32 acc: 94.4041360235835\n",
            "Epochs: 32 acc: 91.91933785879152\n",
            "Epochs: 33 acc: 97.13973241039376\n",
            "Epochs: 33 acc: 94.61243484527078\n",
            "Epochs: 33 acc: 92.20336762714804\n",
            "Epochs: 34 acc: 97.2650599325194\n",
            "Epochs: 34 acc: 94.81124426628023\n",
            "Epochs: 34 acc: 92.4753876830585\n",
            "Epochs: 35 acc: 97.38523281274995\n",
            "Epochs: 35 acc: 95.00067441884971\n",
            "Epochs: 35 acc: 92.7355999439149\n",
            "Epochs: 36 acc: 97.50027021033127\n",
            "Epochs: 36 acc: 95.1810876401734\n",
            "Epochs: 36 acc: 92.98441853346358\n",
            "Epochs: 37 acc: 97.61021899828587\n",
            "Epochs: 37 acc: 95.35298248813159\n",
            "Epochs: 37 acc: 93.22237562672422\n",
            "Epochs: 38 acc: 97.7151639051556\n",
            "Epochs: 38 acc: 95.51690562297712\n",
            "Epochs: 38 acc: 93.45004904714818\n",
            "Epochs: 39 acc: 97.81522771157266\n",
            "Epochs: 39 acc: 95.67339626079969\n",
            "Epochs: 39 acc: 93.66801596421713\n",
            "Epochs: 40 acc: 97.91056544285733\n",
            "Epochs: 40 acc: 95.82295714768323\n",
            "Epochs: 40 acc: 93.87682782396917\n",
            "Epochs: 41 acc: 98.00135599942263\n",
            "Epochs: 41 acc: 95.96604326670015\n",
            "Epochs: 41 acc: 94.07699942937771\n",
            "Epochs: 42 acc: 98.08779356281156\n",
            "Epochs: 42 acc: 96.10306074901129\n",
            "Epochs: 42 acc: 94.26900620902776\n",
            "Epochs: 43 acc: 98.17008004582465\n",
            "Epochs: 43 acc: 96.23437079843495\n",
            "Epochs: 43 acc: 94.45328564267031\n",
            "Epochs: 44 acc: 98.24841907884895\n",
            "Epochs: 44 acc: 96.36029551075548\n",
            "Epochs: 44 acc: 94.63024045570498\n",
            "Epochs: 45 acc: 98.3230115614401\n",
            "Epochs: 45 acc: 96.48112391910263\n",
            "Epochs: 45 acc: 94.80024230543701\n",
            "Epochs: 46 acc: 98.39405258289315\n",
            "Epochs: 46 acc: 96.59711748705733\n",
            "Epochs: 46 acc: 94.96363534406359\n",
            "Epochs: 47 acc: 98.46172943933418\n",
            "Epochs: 47 acc: 96.70851476807898\n",
            "Epochs: 47 acc: 95.12073940562152\n",
            "Epochs: 48 acc: 98.52622047839522\n",
            "Epochs: 48 acc: 96.81553520287245\n",
            "Epochs: 48 acc: 95.27185274831528\n",
            "Epochs: 49 acc: 98.5876945409583\n",
            "Epochs: 49 acc: 96.91838214009995\n",
            "Epochs: 49 acc: 95.41725436959271\n",
            "Epochs: 50 acc: 98.64631081754\n",
            "Epochs: 50 acc: 97.01724520548177\n",
            "Epochs: 50 acc: 95.55720594601945\n",
            "Epochs: 51 acc: 98.70221898232508\n",
            "Epochs: 51 acc: 97.11230214740472\n",
            "Epochs: 51 acc: 95.69195345933095\n",
            "Epochs: 52 acc: 98.7555595058197\n",
            "Epochs: 52 acc: 97.2037202741829\n",
            "Epochs: 52 acc: 95.82172856767254\n",
            "Epochs: 53 acc: 98.80646407663535\n",
            "Epochs: 53 acc: 97.29165757968329\n",
            "Epochs: 53 acc: 95.94674977391257\n",
            "Epochs: 54 acc: 98.85505608482681\n",
            "Epochs: 54 acc: 97.3762636352432\n",
            "Epochs: 54 acc: 96.06722343441325\n",
            "Epochs: 55 acc: 98.90145113488418\n",
            "Epochs: 55 acc: 97.4576803088642\n",
            "Epochs: 55 acc: 96.18334464332845\n",
            "Epochs: 56 acc: 98.94575756736019\n",
            "Epochs: 56 acc: 97.53604235829543\n",
            "Epochs: 56 acc: 96.29529802001467\n",
            "Epochs: 57 acc: 98.98807697546187\n",
            "Epochs: 57 acc: 97.61147793286233\n",
            "Epochs: 57 acc: 96.40325842070057\n",
            "Epochs: 58 acc: 99.02850470776502\n",
            "Epochs: 58 acc: 97.68410900950295\n",
            "Epochs: 58 acc: 96.50739159017627\n",
            "Epochs: 59 acc: 99.06713035130535\n",
            "Epochs: 59 acc: 97.75405178111177\n",
            "Epochs: 59 acc: 96.60785476486396\n",
            "Epochs: 60 acc: 99.1040381912411\n",
            "Epochs: 60 acc: 97.82141700962131\n",
            "Epochs: 60 acc: 96.70479723512051\n",
            "Epochs: 61 acc: 99.13930764449354\n",
            "Epochs: 61 acc: 97.8863103519772\n",
            "Epochs: 61 acc: 96.79836087190003\n",
            "Epochs: 62 acc: 99.17301366554794\n",
            "Epochs: 62 acc: 97.94883266402596\n",
            "Epochs: 62 acc: 96.88868062086989\n",
            "Epochs: 63 acc: 99.20522712314414\n",
            "Epochs: 63 acc: 98.00908028512131\n",
            "Epochs: 63 acc: 96.97588496563861\n",
            "Epochs: 64 acc: 99.23601514703111\n",
            "Epochs: 64 acc: 98.06714530478247\n",
            "Epochs: 64 acc: 97.06009636082558\n",
            "Epochs: 65 acc: 99.26544144438051\n",
            "Epochs: 65 acc: 98.12311581185045\n",
            "Epochs: 65 acc: 97.14143163519708\n",
            "Epochs: 66 acc: 99.29356658588537\n",
            "Epochs: 66 acc: 98.17707612614967\n",
            "Epochs: 66 acc: 97.22000236492372\n",
            "Epochs: 67 acc: 99.32044826201908\n",
            "Epochs: 67 acc: 98.22910701255573\n",
            "Epochs: 67 acc: 97.29591521709897\n",
            "Epochs: 68 acc: 99.34614151038622\n",
            "Epochs: 68 acc: 98.27928587748887\n",
            "Epochs: 68 acc: 97.36927226391856\n",
            "Epochs: 69 acc: 99.3706989155357\n",
            "Epochs: 69 acc: 98.3276869481114\n",
            "Epochs: 69 acc: 97.4401712682831\n",
            "Epochs: 70 acc: 99.3941707830074\n",
            "Epochs: 70 acc: 98.3743814348289\n",
            "Epochs: 70 acc: 97.50870594198847\n",
            "Epochs: 71 acc: 99.41660528971695\n",
            "Epochs: 71 acc: 98.41943767802319\n",
            "Epochs: 71 acc: 97.57496617805728\n",
            "Epochs: 72 acc: 99.43804861303585\n",
            "Epochs: 72 acc: 98.46292128023471\n",
            "Epochs: 72 acc: 97.6390382591009\n",
            "Epochs: 73 acc: 99.45854504108064\n",
            "Epochs: 73 acc: 98.50489522523634\n",
            "Epochs: 73 acc: 97.70100504385775\n",
            "Epochs: 74 acc: 99.47813706678613\n",
            "Epochs: 74 acc: 98.54541998558295\n",
            "Epochs: 74 acc: 97.76094613421617\n",
            "Epochs: 75 acc: 99.49686546830499\n",
            "Epochs: 75 acc: 98.5845536202795\n",
            "Epochs: 75 acc: 97.81893802509516\n",
            "Epochs: 76 acc: 99.51476937816285\n",
            "Epochs: 76 acc: 98.62235186418864\n",
            "Epochs: 76 acc: 97.87505423953033\n",
            "Epochs: 77 acc: 99.53188634341838\n",
            "Epochs: 77 acc: 98.65886821071031\n",
            "Epochs: 77 acc: 97.9293654512077\n",
            "Epochs: 78 acc: 99.54825237884911\n",
            "Epochs: 78 acc: 98.69415398912331\n",
            "Epochs: 78 acc: 97.98193959652025\n",
            "Epochs: 79 acc: 99.56390201492529\n",
            "Epochs: 79 acc: 98.72825843780262\n",
            "Epochs: 79 acc: 98.03284197801031\n",
            "Epochs: 80 acc: 99.57886834206077\n",
            "Epochs: 80 acc: 98.7612287743285\n",
            "Epochs: 80 acc: 98.08213536082243\n",
            "Epochs: 81 acc: 99.5931830523595\n",
            "Epochs: 81 acc: 98.79311026330252\n",
            "Epochs: 81 acc: 98.12988006354298\n",
            "Epochs: 82 acc: 99.6068764798172\n",
            "Epochs: 82 acc: 98.82394628249027\n",
            "Epochs: 82 acc: 98.17613404455675\n",
            "Epochs: 83 acc: 99.61997763970243\n",
            "Epochs: 83 acc: 98.85377838773191\n",
            "Epochs: 83 acc: 98.22095298481996\n",
            "Epochs: 84 acc: 99.63251426763219\n",
            "Epochs: 84 acc: 98.88264637690402\n",
            "Epochs: 84 acc: 98.26439036773878\n",
            "Epochs: 85 acc: 99.64451285867952\n",
            "Epochs: 85 acc: 98.91058835308417\n",
            "Epochs: 85 acc: 98.30649755665875\n",
            "Epochs: 86 acc: 99.65599870670418\n",
            "Epochs: 86 acc: 98.93764078696256\n",
            "Epochs: 86 acc: 98.34732387031413\n",
            "Epochs: 87 acc: 99.66699594398094\n",
            "Epochs: 87 acc: 98.96383857846465\n",
            "Epochs: 87 acc: 98.38691665645939\n",
            "Epochs: 88 acc: 99.67752758111111\n",
            "Epochs: 88 acc: 98.98921511748932\n",
            "Epochs: 88 acc: 98.42532136380342\n",
            "Epochs: 89 acc: 99.68761554713966\n",
            "Epochs: 89 acc: 99.01380234363018\n",
            "Epochs: 89 acc: 98.46258161229089\n",
            "Epochs: 90 acc: 99.69728072975637\n",
            "Epochs: 90 acc: 99.0376308047258\n",
            "Epochs: 90 acc: 98.49873926171988\n",
            "Epochs: 91 acc: 99.7065430154342\n",
            "Epochs: 91 acc: 99.06072971407879\n",
            "Epochs: 91 acc: 98.53383447864786\n",
            "Epochs: 92 acc: 99.71542132934643\n",
            "Epochs: 92 acc: 99.08312700618607\n",
            "Epochs: 92 acc: 98.5679058015159\n",
            "Epochs: 93 acc: 99.72393367490255\n",
            "Epochs: 93 acc: 99.10484939083523\n",
            "Epochs: 93 acc: 98.6009902039099\n",
            "Epochs: 94 acc: 99.73209717274963\n",
            "Epochs: 94 acc: 99.12592240543817\n",
            "Epochs: 94 acc: 98.63312315587687\n",
            "Epochs: 95 acc: 99.73992809909822\n",
            "Epochs: 95 acc: 99.14637046549414\n",
            "Epochs: 95 acc: 98.66433868321903\n",
            "Epochs: 96 acc: 99.74744192324691\n",
            "Epochs: 96 acc: 99.16621691309557\n",
            "Epochs: 96 acc: 98.69466942469796\n",
            "Epochs: 97 acc: 99.75465334419769\n",
            "Epochs: 97 acc: 99.18548406341317\n",
            "Epochs: 97 acc: 98.72414668709445\n",
            "Epochs: 98 acc: 99.76157632627178\n",
            "Epochs: 98 acc: 99.20419324911916\n",
            "Epochs: 98 acc: 98.75280049808379\n",
            "Epochs: 99 acc: 99.7682241336541\n",
            "Epochs: 99 acc: 99.22236486272739\n",
            "Epochs: 99 acc: 98.78065965690237\n",
            "Epochs: 100 acc: 99.77460936381128\n",
            "Epochs: 100 acc: 99.24001839685057\n",
            "Epochs: 100 acc: 98.80775178279649\n"
          ]
        }
      ]
    },
    {
      "cell_type": "code",
      "source": [
        "#plotting accuracy\n",
        "plt.plot(acc)\n",
        "plt.ylabel('Accuracy')\n",
        "plt.xlabel(\"Epochs:\")\n",
        "plt.show()"
      ],
      "metadata": {
        "colab": {
          "base_uri": "https://localhost:8080/",
          "height": 449
        },
        "id": "4HSIoObqFFhf",
        "outputId": "7082be25-145c-4816-a2a4-10df3fa7df10"
      },
      "execution_count": 29,
      "outputs": [
        {
          "output_type": "display_data",
          "data": {
            "text/plain": [
              "<Figure size 640x480 with 1 Axes>"
            ],
            "image/png": "[encoded data removed]"
          },
          "metadata": {}
        }
      ]
    },
    {
      "cell_type": "code",
      "source": [
        "#plotting loss\n",
        "plt.plot(loss)\n",
        "plt.ylabel('Loss')\n",
        "plt.xlabel(\"Epochs:\")\n",
        "plt.show()"
      ],
      "metadata": {
        "colab": {
          "base_uri": "https://localhost:8080/",
          "height": 449
        },
        "id": "DWiCxhQhFTF6",
        "outputId": "5fa2ff33-6c50-4af5-90a8-b4490168a8ed"
      },
      "execution_count": 31,
      "outputs": [
        {
          "output_type": "display_data",
          "data": {
            "text/plain": [
              "<Figure size 640x480 with 1 Axes>"
            ],
            "image/png": "[encoded data removed]"
          },
          "metadata": {}
        }
      ]
    },
    {
      "cell_type": "code",
      "source": [
        "print(w1,\"\\n\", w2)"
      ],
      "metadata": {
        "colab": {
          "base_uri": "https://localhost:8080/"
        },
        "id": "ADBb50LKFm-K",
        "outputId": "83e37e5a-13db-4b59-fe43-2eb72acb50ef"
      },
      "execution_count": 32,
      "outputs": [
        {
          "output_type": "stream",
          "name": "stdout",
          "text": [
            "[[-0.05025896  0.75878857  1.45355557 -0.24679555 -1.33728025]\n",
            " [ 0.36519342 -0.57428711 -1.36165779 -0.0095155  -0.88309731]\n",
            " [-0.04384498 -2.50308758  0.75074879  0.41293717  0.98766016]\n",
            " [ 1.81612014  0.23937326 -0.6016558   0.98059713  0.86547007]\n",
            " [-0.2029213  -1.42445513 -0.78166019 -1.06515944  0.96862471]\n",
            " [-0.26122281 -1.68480495 -0.25309325 -0.8691426   1.5009103 ]\n",
            " [-0.58254676 -0.08457126 -1.81159042 -0.32353091 -0.17828618]\n",
            " [ 0.11432397 -0.0838599   0.64435441  1.26446651  0.31520047]\n",
            " [-0.27833728 -0.16383044 -0.60191067  0.07705171 -2.07850669]\n",
            " [-0.17349803 -0.26245411 -0.44497258 -0.49433921  1.66027229]\n",
            " [-2.1906586   0.10173937  1.18310109  0.26951219 -0.4005558 ]\n",
            " [ 0.19014573 -1.40336228  0.80371789  1.34589525 -0.53975976]\n",
            " [ 0.14346441 -0.82181053 -0.82010661  0.66334761 -1.59053165]\n",
            " [ 1.55899353  1.49578221  0.52239074 -0.05870097 -1.80528757]\n",
            " [-0.60207144 -0.2794063   0.64301619  1.47504661 -1.31001475]\n",
            " [-1.20161467  1.78406571  2.57721315  0.25600207  0.42987165]\n",
            " [ 1.34873995  0.58847704  1.66286585  0.3522626   1.31600159]\n",
            " [-1.30173515 -1.19726671 -0.82097428 -0.94500828 -1.9697629 ]\n",
            " [ 0.7781865   0.47385906 -0.97347895 -0.86413224 -0.24755803]\n",
            " [-0.19408289 -0.09057089 -0.13048674  1.49821685  1.02577962]\n",
            " [-0.06821737 -0.3283203  -2.04504155  0.95039696 -0.90068915]\n",
            " [ 1.05904731  1.1961703   0.3068144   1.93739765  1.42703073]\n",
            " [-0.8195504   0.35566915  0.67760575 -0.23782645  0.22903048]\n",
            " [ 2.08031686  1.53412009  0.27840136 -1.89977232  1.34750845]\n",
            " [ 0.63486972  0.11899411 -0.24538626  0.05104252 -1.42237408]\n",
            " [-1.74385195 -0.20222323 -1.61942322  0.85768627  1.12742061]\n",
            " [ 0.05211996 -1.15217323 -1.67645342 -0.71257615  1.39381852]\n",
            " [-0.04626657  0.05288676  1.01665751  0.41563686 -0.6502843 ]\n",
            " [-0.41412201 -0.81109169 -0.17151886  1.27034554  0.23681314]\n",
            " [-0.26949836 -0.20968727 -0.82432281  0.92850114 -0.32556372]] \n",
            " [[ 4.85119887e-01 -3.79521206e+00 -5.57011836e-01]\n",
            " [ 1.05618896e+00  6.39815636e-01 -1.82994258e+00]\n",
            " [ 8.82874952e-01  1.42169730e+00 -4.17927242e+00]\n",
            " [ 1.37609214e-03 -7.65458737e-01  1.93231801e+00]\n",
            " [-3.38994511e+00  1.49713183e+00  3.81073837e-01]]\n"
          ]
        }
      ]
    },
    {
      "cell_type": "code",
      "source": [
        "predict(x[1],w1,w2)"
      ],
      "metadata": {
        "colab": {
          "base_uri": "https://localhost:8080/",
          "height": 1000
        },
        "id": "Jk1PpuA4FvCV",
        "outputId": "1e06c690-85ff-4ca8-9e31-2043d07424cd"
      },
      "execution_count": 34,
      "outputs": [
        {
          "output_type": "stream",
          "name": "stdout",
          "text": [
            "Image is of letter A\n"
          ]
        },
        {
          "output_type": "display_data",
          "data": {
            "text/plain": [
              "<Figure size 640x480 with 1 Axes>"
            ],
            "image/png": "[encoded data removed]"
          },
          "metadata": {}
        },
        {
          "output_type": "stream",
          "name": "stdout",
          "text": [
            "Image is of letter B\n"
          ]
        },
        {
          "output_type": "display_data",
          "data": {
            "text/plain": [
              "<Figure size 640x480 with 1 Axes>"
            ],
            "image/png": "[encoded data removed]"
          },
          "metadata": {}
        },
        {
          "output_type": "stream",
          "name": "stdout",
          "text": [
            "Image is of letter C\n"
          ]
        },
        {
          "output_type": "display_data",
          "data": {
            "text/plain": [
              "<Figure size 640x480 with 1 Axes>"
            ],
            "image/png": "[encoded data removed]"
          },
          "metadata": {}
        }
      ]
    }
  ]
}